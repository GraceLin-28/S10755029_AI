{
  "nbformat": 4,
  "nbformat_minor": 0,
  "metadata": {
    "colab": {
      "name": "20210616.ipynb",
      "provenance": [],
      "collapsed_sections": [],
      "authorship_tag": "ABX9TyPzgAhSERtAV2NvrDPjPEIW",
      "include_colab_link": true
    },
    "kernelspec": {
      "name": "python3",
      "display_name": "Python 3"
    },
    "language_info": {
      "name": "python"
    }
  },
  "cells": [
    {
      "cell_type": "markdown",
      "metadata": {
        "id": "view-in-github",
        "colab_type": "text"
      },
      "source": [
        "<a href=\"https://colab.research.google.com/github/GraceLin-28/S10755029_AI/blob/main/20210616python.ipynb\" target=\"_parent\"><img src=\"https://colab.research.google.com/assets/colab-badge.svg\" alt=\"Open In Colab\"/></a>"
      ]
    },
    {
      "cell_type": "code",
      "metadata": {
        "colab": {
          "base_uri": "https://localhost:8080/",
          "height": 298
        },
        "id": "Xq59B5As4xPi",
        "outputId": "98733d93-c6a6-4677-cea1-817aff63fdee"
      },
      "source": [
        "import matplotlib.pyplot as plt\n",
        "import numpy as np\n",
        "\n",
        "xpt1 = np.linspace(0,10,500)\n",
        "#xpt2 = np.linspace(0,10,500)\n",
        "#xpt3 = np.linspace(0,10,500)\n",
        "#xpt4 = np.linspace(0,10,500)\n",
        "\n",
        "ypt1 = np.sin(xpt1)\n",
        "ypt2 = np.cos(xpt2)\n",
        "ypt3 = np.tan(xpt3)\n",
        "ypt4 = 1/ypt3\n",
        "\n",
        "\n",
        "plt.subplot(2,3,1)\n",
        "plt.plot(xpt1, ypt1, '-*')\n",
        "\n",
        "plt.subplot(2,3,2)\n",
        "plt.plot(xpt1, ypt2, '-0')\n",
        "\n",
        "plt.subplot(2,3,4)\n",
        "plt.plot(xpt1, ypt3, '-*')\n",
        "\n",
        "plt.subplot(2,3,5)\n",
        "plt.plot(xpt1, ypt4, '-0')\n",
        "\n",
        "plt.show()"
      ],
      "execution_count": 18,
      "outputs": [
        {
          "output_type": "stream",
          "text": [
            "/usr/local/lib/python3.7/dist-packages/ipykernel_launcher.py:12: RuntimeWarning: divide by zero encountered in true_divide\n",
            "  if sys.path[0] == '':\n"
          ],
          "name": "stderr"
        },
        {
          "output_type": "display_data",
          "data": {
            "image/png": "[encoded data removed]",
            "text/plain": [
              "<Figure size 432x288 with 4 Axes>"
            ]
          },
          "metadata": {
            "tags": [],
            "needs_background": "light"
          }
        }
      ]
    }
  ]
}